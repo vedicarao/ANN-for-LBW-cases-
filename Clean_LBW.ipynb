{
  "nbformat": 4,
  "nbformat_minor": 0,
  "metadata": {
    "kernelspec": {
      "display_name": "Python 3",
      "language": "python",
      "name": "python3"
    },
    "language_info": {
      "codemirror_mode": {
        "name": "ipython",
        "version": 3
      },
      "file_extension": ".py",
      "mimetype": "text/x-python",
      "name": "python",
      "nbconvert_exporter": "python",
      "pygments_lexer": "ipython3",
      "version": "3.7.4"
    },
    "colab": {
      "name": "Clean_LBW.ipynb",
      "provenance": [],
      "collapsed_sections": [],
      "include_colab_link": true
    }
  },
  "cells": [
    {
      "cell_type": "markdown",
      "metadata": {
        "id": "view-in-github",
        "colab_type": "text"
      },
      "source": [
        "<a href=\"https://colab.research.google.com/github/vedicarao/ANN-for-LBW-cases-/blob/main/Clean_LBW.ipynb\" target=\"_parent\"><img src=\"https://colab.research.google.com/assets/colab-badge.svg\" alt=\"Open In Colab\"/></a>"
      ]
    },
    {
      "cell_type": "code",
      "metadata": {
        "id": "Wus-hXrrMWDE",
        "outputId": "e80c63f0-0d2e-4e3a-c4a1-bc217325d765",
        "colab": {
          "base_uri": "https://localhost:8080/"
        }
      },
      "source": [
        "import pandas as pd\n",
        "from numpy import nan\n",
        "import numpy as np\n",
        "df = pd.read_csv (\"/content/LBW_Dataset.csv\")\n",
        "print (df)\n",
        "df.mean()"
      ],
      "execution_count": null,
      "outputs": [
        {
          "output_type": "stream",
          "text": [
            "    Community   Age  Weight  ...  Education  Residence  Result\n",
            "0           1  21.0    42.0  ...        5.0        1.0       0\n",
            "1           1  21.0     NaN  ...        5.0        1.0       0\n",
            "2           1  21.0     NaN  ...        5.0        1.0       0\n",
            "3           1  21.0     NaN  ...        5.0        1.0       0\n",
            "4           1  24.0    33.0  ...        5.0        1.0       0\n",
            "..        ...   ...     ...  ...        ...        ...     ...\n",
            "91          3  21.0    55.0  ...        5.0        1.0       1\n",
            "92          3  24.0    39.0  ...        5.0        1.0       1\n",
            "93          3   NaN    50.0  ...        NaN        1.0       1\n",
            "94          1   NaN    38.0  ...        5.0        1.0       1\n",
            "95          3  21.0    50.0  ...        5.0        1.0       1\n",
            "\n",
            "[96 rows x 10 columns]\n"
          ],
          "name": "stdout"
        },
        {
          "output_type": "execute_result",
          "data": {
            "text/plain": [
              "Community          2.177083\n",
              "Age               23.752809\n",
              "Weight            45.129412\n",
              "Delivery phase     1.021739\n",
              "HB                 9.076623\n",
              "IFA                0.687500\n",
              "BP                 1.725189\n",
              "Education          5.000000\n",
              "Residence          1.138298\n",
              "Result             0.750000\n",
              "dtype: float64"
            ]
          },
          "metadata": {
            "tags": []
          },
          "execution_count": 107
        }
      ]
    },
    {
      "cell_type": "code",
      "metadata": {
        "id": "MTLl0xN0MWDY"
      },
      "source": [
        "df['Weight']=df['Weight'].fillna(45.129)"
      ],
      "execution_count": null,
      "outputs": []
    },
    {
      "cell_type": "code",
      "metadata": {
        "id": "mOLKrF6ZMWDe"
      },
      "source": [
        "df['Age']=df['Age'].fillna(23.752809)"
      ],
      "execution_count": null,
      "outputs": []
    },
    {
      "cell_type": "code",
      "metadata": {
        "id": "Q8aX6mutMWDm"
      },
      "source": [
        "df['Residence']=df['Residence'].fillna(1.0)\n",
        "df['Education']=df['Education'].fillna(5.0)"
      ],
      "execution_count": null,
      "outputs": []
    },
    {
      "cell_type": "code",
      "metadata": {
        "id": "-mV-b7p7MWDt"
      },
      "source": [
        "df['BP']=df['BP'].fillna(1.725189)\n",
        "df['HB']=df['HB'].fillna(9.076623)\n",
        "df['Delivery phase']=df['Delivery phase'].fillna(1.0)"
      ],
      "execution_count": null,
      "outputs": []
    },
    {
      "cell_type": "code",
      "metadata": {
        "id": "Lbc0z0cKMWDz",
        "outputId": "161b15d0-278f-45a8-a31c-ed447e02c665",
        "colab": {
          "base_uri": "https://localhost:8080/"
        }
      },
      "source": [
        "print(df)\n"
      ],
      "execution_count": null,
      "outputs": [
        {
          "output_type": "stream",
          "text": [
            "    Community        Age  Weight  ...  Education  Residence  Result\n",
            "0           1  21.000000  42.000  ...        5.0        1.0       0\n",
            "1           1  21.000000  45.129  ...        5.0        1.0       0\n",
            "2           1  21.000000  45.129  ...        5.0        1.0       0\n",
            "3           1  21.000000  45.129  ...        5.0        1.0       0\n",
            "4           1  24.000000  33.000  ...        5.0        1.0       0\n",
            "..        ...        ...     ...  ...        ...        ...     ...\n",
            "91          3  21.000000  55.000  ...        5.0        1.0       1\n",
            "92          3  24.000000  39.000  ...        5.0        1.0       1\n",
            "93          3  23.752809  50.000  ...        5.0        1.0       1\n",
            "94          1  23.752809  38.000  ...        5.0        1.0       1\n",
            "95          3  21.000000  50.000  ...        5.0        1.0       1\n",
            "\n",
            "[96 rows x 10 columns]\n"
          ],
          "name": "stdout"
        }
      ]
    },
    {
      "cell_type": "code",
      "metadata": {
        "id": "pS2y1Q2eMWD4",
        "outputId": "81d52e5c-8ed7-4d3d-baca-0ce6331ce001",
        "colab": {
          "base_uri": "https://localhost:8080/"
        }
      },
      "source": [
        "df.mean()\n"
      ],
      "execution_count": null,
      "outputs": [
        {
          "output_type": "execute_result",
          "data": {
            "text/plain": [
              "Community          2.177083\n",
              "Age               23.752809\n",
              "Weight            45.129365\n",
              "Delivery phase     1.020833\n",
              "HB                 9.076623\n",
              "IFA                0.687500\n",
              "BP                 1.725189\n",
              "Education          5.000000\n",
              "Residence          1.135417\n",
              "Result             0.750000\n",
              "dtype: float64"
            ]
          },
          "metadata": {
            "tags": []
          },
          "execution_count": 113
        }
      ]
    },
    {
      "cell_type": "code",
      "metadata": {
        "id": "q0vpXeVXMWD-",
        "outputId": "14ce5b0a-3507-42fc-a8c3-2a6a5818d77e",
        "colab": {
          "base_uri": "https://localhost:8080/",
          "height": 403
        }
      },
      "source": [
        "df.corr()"
      ],
      "execution_count": null,
      "outputs": [
        {
          "output_type": "execute_result",
          "data": {
            "text/html": [
              "<div>\n",
              "<style scoped>\n",
              "    .dataframe tbody tr th:only-of-type {\n",
              "        vertical-align: middle;\n",
              "    }\n",
              "\n",
              "    .dataframe tbody tr th {\n",
              "        vertical-align: top;\n",
              "    }\n",
              "\n",
              "    .dataframe thead th {\n",
              "        text-align: right;\n",
              "    }\n",
              "</style>\n",
              "<table border=\"1\" class=\"dataframe\">\n",
              "  <thead>\n",
              "    <tr style=\"text-align: right;\">\n",
              "      <th></th>\n",
              "      <th>Community</th>\n",
              "      <th>Age</th>\n",
              "      <th>Weight</th>\n",
              "      <th>Delivery phase</th>\n",
              "      <th>HB</th>\n",
              "      <th>IFA</th>\n",
              "      <th>BP</th>\n",
              "      <th>Education</th>\n",
              "      <th>Residence</th>\n",
              "      <th>Result</th>\n",
              "    </tr>\n",
              "  </thead>\n",
              "  <tbody>\n",
              "    <tr>\n",
              "      <th>Community</th>\n",
              "      <td>1.000000</td>\n",
              "      <td>0.040542</td>\n",
              "      <td>0.178395</td>\n",
              "      <td>-0.021390</td>\n",
              "      <td>0.163095</td>\n",
              "      <td>-0.105847</td>\n",
              "      <td>-0.099658</td>\n",
              "      <td>NaN</td>\n",
              "      <td>0.118436</td>\n",
              "      <td>0.044823</td>\n",
              "    </tr>\n",
              "    <tr>\n",
              "      <th>Age</th>\n",
              "      <td>0.040542</td>\n",
              "      <td>1.000000</td>\n",
              "      <td>0.070748</td>\n",
              "      <td>0.034277</td>\n",
              "      <td>0.054894</td>\n",
              "      <td>-0.017154</td>\n",
              "      <td>-0.063255</td>\n",
              "      <td>NaN</td>\n",
              "      <td>-0.055403</td>\n",
              "      <td>-0.010881</td>\n",
              "    </tr>\n",
              "    <tr>\n",
              "      <th>Weight</th>\n",
              "      <td>0.178395</td>\n",
              "      <td>0.070748</td>\n",
              "      <td>1.000000</td>\n",
              "      <td>-0.059397</td>\n",
              "      <td>-0.044516</td>\n",
              "      <td>0.138134</td>\n",
              "      <td>0.085191</td>\n",
              "      <td>NaN</td>\n",
              "      <td>0.366732</td>\n",
              "      <td>0.371524</td>\n",
              "    </tr>\n",
              "    <tr>\n",
              "      <th>Delivery phase</th>\n",
              "      <td>-0.021390</td>\n",
              "      <td>0.034277</td>\n",
              "      <td>-0.059397</td>\n",
              "      <td>1.000000</td>\n",
              "      <td>-0.070379</td>\n",
              "      <td>-0.216353</td>\n",
              "      <td>-0.012412</td>\n",
              "      <td>NaN</td>\n",
              "      <td>-0.057728</td>\n",
              "      <td>-0.084215</td>\n",
              "    </tr>\n",
              "    <tr>\n",
              "      <th>HB</th>\n",
              "      <td>0.163095</td>\n",
              "      <td>0.054894</td>\n",
              "      <td>-0.044516</td>\n",
              "      <td>-0.070379</td>\n",
              "      <td>1.000000</td>\n",
              "      <td>-0.036130</td>\n",
              "      <td>-0.064691</td>\n",
              "      <td>NaN</td>\n",
              "      <td>-0.122414</td>\n",
              "      <td>-0.009401</td>\n",
              "    </tr>\n",
              "    <tr>\n",
              "      <th>IFA</th>\n",
              "      <td>-0.105847</td>\n",
              "      <td>-0.017154</td>\n",
              "      <td>0.138134</td>\n",
              "      <td>-0.216353</td>\n",
              "      <td>-0.036130</td>\n",
              "      <td>1.000000</td>\n",
              "      <td>-0.001570</td>\n",
              "      <td>NaN</td>\n",
              "      <td>0.135463</td>\n",
              "      <td>0.181650</td>\n",
              "    </tr>\n",
              "    <tr>\n",
              "      <th>BP</th>\n",
              "      <td>-0.099658</td>\n",
              "      <td>-0.063255</td>\n",
              "      <td>0.085191</td>\n",
              "      <td>-0.012412</td>\n",
              "      <td>-0.064691</td>\n",
              "      <td>-0.001570</td>\n",
              "      <td>1.000000</td>\n",
              "      <td>NaN</td>\n",
              "      <td>0.243130</td>\n",
              "      <td>-0.015532</td>\n",
              "    </tr>\n",
              "    <tr>\n",
              "      <th>Education</th>\n",
              "      <td>NaN</td>\n",
              "      <td>NaN</td>\n",
              "      <td>NaN</td>\n",
              "      <td>NaN</td>\n",
              "      <td>NaN</td>\n",
              "      <td>NaN</td>\n",
              "      <td>NaN</td>\n",
              "      <td>NaN</td>\n",
              "      <td>NaN</td>\n",
              "      <td>NaN</td>\n",
              "    </tr>\n",
              "    <tr>\n",
              "      <th>Residence</th>\n",
              "      <td>0.118436</td>\n",
              "      <td>-0.055403</td>\n",
              "      <td>0.366732</td>\n",
              "      <td>-0.057728</td>\n",
              "      <td>-0.122414</td>\n",
              "      <td>0.135463</td>\n",
              "      <td>0.243130</td>\n",
              "      <td>NaN</td>\n",
              "      <td>1.000000</td>\n",
              "      <td>0.087882</td>\n",
              "    </tr>\n",
              "    <tr>\n",
              "      <th>Result</th>\n",
              "      <td>0.044823</td>\n",
              "      <td>-0.010881</td>\n",
              "      <td>0.371524</td>\n",
              "      <td>-0.084215</td>\n",
              "      <td>-0.009401</td>\n",
              "      <td>0.181650</td>\n",
              "      <td>-0.015532</td>\n",
              "      <td>NaN</td>\n",
              "      <td>0.087882</td>\n",
              "      <td>1.000000</td>\n",
              "    </tr>\n",
              "  </tbody>\n",
              "</table>\n",
              "</div>"
            ],
            "text/plain": [
              "                Community       Age    Weight  ...  Education  Residence    Result\n",
              "Community        1.000000  0.040542  0.178395  ...        NaN   0.118436  0.044823\n",
              "Age              0.040542  1.000000  0.070748  ...        NaN  -0.055403 -0.010881\n",
              "Weight           0.178395  0.070748  1.000000  ...        NaN   0.366732  0.371524\n",
              "Delivery phase  -0.021390  0.034277 -0.059397  ...        NaN  -0.057728 -0.084215\n",
              "HB               0.163095  0.054894 -0.044516  ...        NaN  -0.122414 -0.009401\n",
              "IFA             -0.105847 -0.017154  0.138134  ...        NaN   0.135463  0.181650\n",
              "BP              -0.099658 -0.063255  0.085191  ...        NaN   0.243130 -0.015532\n",
              "Education             NaN       NaN       NaN  ...        NaN        NaN       NaN\n",
              "Residence        0.118436 -0.055403  0.366732  ...        NaN   1.000000  0.087882\n",
              "Result           0.044823 -0.010881  0.371524  ...        NaN   0.087882  1.000000\n",
              "\n",
              "[10 rows x 10 columns]"
            ]
          },
          "metadata": {
            "tags": []
          },
          "execution_count": 114
        }
      ]
    },
    {
      "cell_type": "code",
      "metadata": {
        "id": "91PVGvEMMWEL"
      },
      "source": [
        "train=df.sample(frac=0.8,random_state=200) #random state is a seed value\n",
        "test=df.drop(train.index)"
      ],
      "execution_count": null,
      "outputs": []
    },
    {
      "cell_type": "code",
      "metadata": {
        "id": "3tyV25LczVrP"
      },
      "source": [
        "x_train = train.iloc[:, :-1].values\n",
        "y_train = train.iloc[:, -1].values\n",
        "x_test = test.iloc[:, :-1].values\n",
        "y_test = test.iloc[:, -1].values"
      ],
      "execution_count": null,
      "outputs": []
    },
    {
      "cell_type": "code",
      "metadata": {
        "id": "oo6sm9qmBhdC"
      },
      "source": [
        "x_train_reshaped=x_train.reshape((9,77))\n",
        "y_train_reshaped=y_train.reshape((1,77))"
      ],
      "execution_count": null,
      "outputs": []
    },
    {
      "cell_type": "code",
      "metadata": {
        "id": "03VORJd129w8",
        "outputId": "3d8f4cde-eb0b-4e82-99d1-66f7109d4e9d",
        "colab": {
          "base_uri": "https://localhost:8080/"
        }
      },
      "source": [
        "print(x_train.shape)\n",
        "print(x_test.shape)\n",
        "print(y_train.shape)\n",
        "print(y_test.shape)\n"
      ],
      "execution_count": null,
      "outputs": [
        {
          "output_type": "stream",
          "text": [
            "(77, 9)\n",
            "(19, 9)\n",
            "(77,)\n",
            "(19,)\n"
          ],
          "name": "stdout"
        }
      ]
    },
    {
      "cell_type": "code",
      "metadata": {
        "id": "vWdzzaL5GiMy",
        "outputId": "1f4944a6-67ac-4eda-e038-e157aac8a1d0",
        "colab": {
          "base_uri": "https://localhost:8080/"
        }
      },
      "source": [
        "y_train"
      ],
      "execution_count": null,
      "outputs": [
        {
          "output_type": "execute_result",
          "data": {
            "text/plain": [
              "array([1, 0, 1, 1, 1, 1, 1, 0, 0, 1, 1, 0, 1, 1, 1, 1, 1, 1, 0, 1, 1, 0,\n",
              "       1, 1, 1, 0, 1, 1, 1, 1, 1, 1, 1, 1, 1, 1, 1, 1, 1, 1, 1, 1, 0, 1,\n",
              "       0, 0, 1, 1, 1, 1, 1, 0, 1, 1, 1, 1, 0, 0, 1, 1, 0, 1, 0, 1, 1, 1,\n",
              "       1, 1, 1, 1, 1, 1, 0, 1, 1, 0, 1])"
            ]
          },
          "metadata": {
            "tags": []
          },
          "execution_count": 119
        }
      ]
    },
    {
      "cell_type": "code",
      "metadata": {
        "id": "Mb9vVL6e7MWz",
        "outputId": "74338a6b-9e37-4a31-e925-871e30f484dc",
        "colab": {
          "base_uri": "https://localhost:8080/"
        }
      },
      "source": [
        "y_train_reshaped.shape[1]"
      ],
      "execution_count": null,
      "outputs": [
        {
          "output_type": "execute_result",
          "data": {
            "text/plain": [
              "77"
            ]
          },
          "metadata": {
            "tags": []
          },
          "execution_count": 120
        }
      ]
    },
    {
      "cell_type": "code",
      "metadata": {
        "id": "caXeIY6jMWEP"
      },
      "source": [
        "NN_ARCHITECTURE = [\n",
        "    {\"input_dim\": 9, \"output_dim\": 25, \"activation\": \"relu\"},\n",
        "    {\"input_dim\": 25, \"output_dim\": 50, \"activation\": \"relu\"},\n",
        "    {\"input_dim\": 50, \"output_dim\": 50, \"activation\": \"relu\"},\n",
        "    {\"input_dim\": 50, \"output_dim\": 25, \"activation\": \"relu\"},\n",
        "    {\"input_dim\": 25, \"output_dim\": 1, \"activation\": \"sigmoid\"},\n",
        "]"
      ],
      "execution_count": null,
      "outputs": []
    },
    {
      "cell_type": "code",
      "metadata": {
        "id": "npLBStMYm4-9"
      },
      "source": [
        "def init_layers(nn_architecture, seed = 99):\n",
        "    # random seed initiation\n",
        "    np.random.seed(seed)\n",
        "    # number of layers in our neural network\n",
        "    number_of_layers = len(nn_architecture)\n",
        "    # parameters storage initiation\n",
        "    params_values = {}\n",
        "    \n",
        "    # iteration over network layers\n",
        "    for idx, layer in enumerate(nn_architecture):\n",
        "        # we number network layers from 1\n",
        "        layer_idx = idx + 1\n",
        "        \n",
        "        # extracting the number of units in layers\n",
        "        layer_input_size = layer[\"input_dim\"]\n",
        "        layer_output_size = layer[\"output_dim\"]\n",
        "        \n",
        "        # initiating the values of the W matrix\n",
        "        # and vector b for subsequent layers\n",
        "        params_values['W' + str(layer_idx)] = np.random.randn(\n",
        "            layer_output_size, layer_input_size) * 0.1\n",
        "        params_values['b' + str(layer_idx)] = np.random.randn(\n",
        "            layer_output_size, 1) * 0.1\n",
        "        \n",
        "    return params_values"
      ],
      "execution_count": null,
      "outputs": []
    },
    {
      "cell_type": "code",
      "metadata": {
        "id": "7XlpKw04m5CT"
      },
      "source": [
        "def sigmoid(Z):\n",
        "    return 1/(1+np.exp(-Z))\n",
        "\n",
        "def relu(Z):\n",
        "    return np.maximum(0,Z)\n",
        "\n",
        "def sigmoid_backward(dA, Z):\n",
        "    sig = sigmoid(Z)\n",
        "    return dA * sig * (1 - sig)\n",
        "\n",
        "def relu_backward(dA, Z):\n",
        "    dZ = np.array(dA, copy = True)\n",
        "    dZ[Z <= 0] = 0;\n",
        "    return dZ;"
      ],
      "execution_count": null,
      "outputs": []
    },
    {
      "cell_type": "code",
      "metadata": {
        "id": "MNK0Z4Rsm5BX"
      },
      "source": [
        "\n",
        "def single_layer_forward_propagation(A_prev, W_curr, b_curr, activation=\"relu\"):\n",
        "    # calculation of the input value for the activation function\n",
        "    Z_curr = np.dot(W_curr, A_prev) + b_curr\n",
        "    \n",
        "    # selection of activation function\n",
        "    if activation is \"relu\":\n",
        "        activation_func = relu\n",
        "    elif activation is \"sigmoid\":\n",
        "        activation_func = sigmoid\n",
        "    else:\n",
        "        raise Exception('Non-supported activation function')\n",
        "        \n",
        "    # return of calculated activation A and the intermediate Z matrix\n",
        "    return activation_func(Z_curr), Z_curr"
      ],
      "execution_count": null,
      "outputs": []
    },
    {
      "cell_type": "code",
      "metadata": {
        "id": "6FNgDAj8m489"
      },
      "source": [
        "def full_forward_propagation(X, params_values, nn_architecture):\n",
        "    # creating a temporary memory to store the information needed for a backward step\n",
        "    memory = {}\n",
        "    # X vector is the activation for layer 0 \n",
        "    A_curr = X\n",
        "    \n",
        "    # iteration over network layers\n",
        "    for idx, layer in enumerate(nn_architecture):\n",
        "        # we number network layers from 1\n",
        "        layer_idx = idx + 1\n",
        "        # transfer the activation from the previous iteration\n",
        "        A_prev = A_curr\n",
        "        \n",
        "        # extraction of the activation function for the current layer\n",
        "        activ_function_curr = layer[\"activation\"]\n",
        "        # extraction of W for the current layer\n",
        "        W_curr = params_values[\"W\" + str(layer_idx)]\n",
        "        # extraction of b for the current layer\n",
        "        b_curr = params_values[\"b\" + str(layer_idx)]\n",
        "        # calculation of activation for the current layer\n",
        "        A_curr, Z_curr = single_layer_forward_propagation(A_prev, W_curr, b_curr, activ_function_curr)\n",
        "        \n",
        "        # saving calculated values in the memory\n",
        "        memory[\"A\" + str(idx)] = A_prev\n",
        "        memory[\"Z\" + str(layer_idx)] = Z_curr\n",
        "       \n",
        "    # return of prediction vector and a dictionary containing intermediate values\n",
        "    return A_curr, memory"
      ],
      "execution_count": null,
      "outputs": []
    },
    {
      "cell_type": "code",
      "metadata": {
        "id": "e5Q28F8GnIYY"
      },
      "source": [
        "def get_cost_value(Y_hat, Y):\n",
        "    # number of examples\n",
        "    m = Y_hat.shape[1]\n",
        "    # calculation of the cost according to the formula\n",
        "    cost = -1 / m * (np.dot(Y, np.log(Y_hat).T) + np.dot(1 - Y, np.log(1 - Y_hat).T))\n",
        "    return np.squeeze(cost)"
      ],
      "execution_count": null,
      "outputs": []
    },
    {
      "cell_type": "code",
      "metadata": {
        "id": "mqWWkdNXnIXU"
      },
      "source": [
        "def convert_prob_into_class(probs):\n",
        "    probs_ = np.copy(probs)\n",
        "    probs_[probs_ > 0.5] = 1\n",
        "    probs_[probs_ <= 0.5] = 0\n",
        "    return probs_"
      ],
      "execution_count": null,
      "outputs": []
    },
    {
      "cell_type": "code",
      "metadata": {
        "id": "qy_Q9tmcnPYj"
      },
      "source": [
        "def get_accuracy_value(Y_hat, Y):\n",
        "    Y_hat_ = convert_prob_into_class(Y_hat)\n",
        "    return (Y_hat_ == Y).all(axis=0).mean()"
      ],
      "execution_count": null,
      "outputs": []
    },
    {
      "cell_type": "code",
      "metadata": {
        "id": "nZYZMm2znPXV"
      },
      "source": [
        "def single_layer_backward_propagation(dA_curr, W_curr, b_curr, Z_curr, A_prev, activation=\"relu\"):\n",
        "    # number of examples\n",
        "    m = A_prev.shape[1]\n",
        "    \n",
        "    # selection of activation function\n",
        "    if activation is \"relu\":\n",
        "        backward_activation_func = relu_backward\n",
        "    elif activation is \"sigmoid\":\n",
        "        backward_activation_func = sigmoid_backward\n",
        "    else:\n",
        "        raise Exception('Non-supported activation function')\n",
        "    \n",
        "    # calculation of the activation function derivative\n",
        "    dZ_curr = backward_activation_func(dA_curr, Z_curr)\n",
        "    \n",
        "    # derivative of the matrix W\n",
        "    dW_curr = np.dot(dZ_curr, A_prev.T) / m\n",
        "    # derivative of the vector b\n",
        "    db_curr = np.sum(dZ_curr, axis=1, keepdims=True) / m\n",
        "    # derivative of the matrix A_prev\n",
        "    dA_prev = np.dot(W_curr.T, dZ_curr)\n",
        "\n",
        "    return dA_prev, dW_curr, db_curr"
      ],
      "execution_count": null,
      "outputs": []
    },
    {
      "cell_type": "code",
      "metadata": {
        "id": "cpDPU9tUnYjz"
      },
      "source": [
        "def full_backward_propagation(Y_hat, Y, memory, params_values, nn_architecture):\n",
        "    grads_values = {}\n",
        "    \n",
        "    # number of examples\n",
        "    m = Y.shape[1]\n",
        "    # a hack ensuring the same shape of the prediction vector and labels vector\n",
        "    Y = Y.reshape(Y_hat.shape)\n",
        "    \n",
        "    # initiation of gradient descent algorithm\n",
        "    dA_prev = - (np.divide(Y, Y_hat) - np.divide(1 - Y, 1 - Y_hat));\n",
        "    \n",
        "    for layer_idx_prev, layer in reversed(list(enumerate(nn_architecture))):\n",
        "        # we number network layers from 1\n",
        "        layer_idx_curr = layer_idx_prev + 1\n",
        "        # extraction of the activation function for the current layer\n",
        "        activ_function_curr = layer[\"activation\"]\n",
        "        \n",
        "        dA_curr = dA_prev\n",
        "        \n",
        "        A_prev = memory[\"A\" + str(layer_idx_prev)]\n",
        "        Z_curr = memory[\"Z\" + str(layer_idx_curr)]\n",
        "        \n",
        "        W_curr = params_values[\"W\" + str(layer_idx_curr)]\n",
        "        b_curr = params_values[\"b\" + str(layer_idx_curr)]\n",
        "        \n",
        "        dA_prev, dW_curr, db_curr = single_layer_backward_propagation(\n",
        "            dA_curr, W_curr, b_curr, Z_curr, A_prev, activ_function_curr)\n",
        "        \n",
        "        grads_values[\"dW\" + str(layer_idx_curr)] = dW_curr\n",
        "        grads_values[\"db\" + str(layer_idx_curr)] = db_curr\n",
        "    \n",
        "    return grads_values"
      ],
      "execution_count": null,
      "outputs": []
    },
    {
      "cell_type": "code",
      "metadata": {
        "id": "7xwXUIwynbkQ"
      },
      "source": [
        "def update(params_values, grads_values, nn_architecture, learning_rate):\n",
        "\n",
        "    # iteration over network layers\n",
        "    for layer_idx, layer in enumerate(nn_architecture, 1):\n",
        "        params_values[\"W\" + str(layer_idx)] -= learning_rate * grads_values[\"dW\" + str(layer_idx)]        \n",
        "        params_values[\"b\" + str(layer_idx)] -= learning_rate * grads_values[\"db\" + str(layer_idx)]\n",
        "\n",
        "    return params_values;"
      ],
      "execution_count": null,
      "outputs": []
    },
    {
      "cell_type": "code",
      "metadata": {
        "id": "Zv5t2BWUnfn7"
      },
      "source": [
        "\n",
        "def train(X, Y, nn_architecture, epochs, learning_rate, verbose=False, callback=None):\n",
        "    # initiation of neural net parameters\n",
        "    params_values = init_layers(nn_architecture, 2)\n",
        "    # initiation of lists storing the history \n",
        "    # of metrics calculated during the learning process \n",
        "    cost_history = []\n",
        "    accuracy_history = []\n",
        "    \n",
        "    # performing calculations for subsequent iterations\n",
        "    for i in range(epochs):\n",
        "        # step forward\n",
        "        Y_hat, cashe = full_forward_propagation(X, params_values, nn_architecture)\n",
        "        \n",
        "        # calculating metrics and saving them in history\n",
        "        cost = get_cost_value(Y_hat, Y)\n",
        "        cost_history.append(cost)\n",
        "        accuracy = get_accuracy_value(Y_hat, Y)\n",
        "        accuracy_history.append(accuracy)\n",
        "        \n",
        "        # step backward - calculating gradient\n",
        "        grads_values = full_backward_propagation(Y_hat, Y, cashe, params_values, nn_architecture)\n",
        "        # updating model state\n",
        "        params_values = update(params_values, grads_values, nn_architecture, learning_rate)\n",
        "        \n",
        "        if(i % 50 == 0):\n",
        "            if(verbose):\n",
        "                print(\"Iteration: {:05} - cost: {:.5f} - accuracy: {:.5f}\".format(i, cost, accuracy))\n",
        "            if(callback is not None):\n",
        "                callback(i, params_values)\n",
        "            \n",
        "    return params_values, cost_history, accuracy_history"
      ],
      "execution_count": null,
      "outputs": []
    },
    {
      "cell_type": "code",
      "metadata": {
        "id": "1ihgqxU_0AWS"
      },
      "source": [
        "trained_nn, cost, acc=train(x_train_reshaped, y_train_reshaped, NN_ARCHITECTURE, 20, 0.01)"
      ],
      "execution_count": null,
      "outputs": []
    },
    {
      "cell_type": "code",
      "metadata": {
        "id": "yO67jTvV1y7L",
        "outputId": "bee2ffaf-c1a7-47cc-a180-46055893f812",
        "colab": {
          "base_uri": "https://localhost:8080/"
        }
      },
      "source": [
        "acc"
      ],
      "execution_count": null,
      "outputs": [
        {
          "output_type": "execute_result",
          "data": {
            "text/plain": [
              "[0.7272727272727273,\n",
              " 0.7402597402597403,\n",
              " 0.7792207792207793,\n",
              " 0.7792207792207793,\n",
              " 0.7792207792207793,\n",
              " 0.7792207792207793,\n",
              " 0.7792207792207793,\n",
              " 0.7792207792207793,\n",
              " 0.7792207792207793,\n",
              " 0.7792207792207793,\n",
              " 0.7792207792207793,\n",
              " 0.7792207792207793,\n",
              " 0.7792207792207793,\n",
              " 0.7792207792207793,\n",
              " 0.7792207792207793,\n",
              " 0.7792207792207793,\n",
              " 0.7792207792207793,\n",
              " 0.7792207792207793,\n",
              " 0.7792207792207793,\n",
              " 0.7792207792207793]"
            ]
          },
          "metadata": {
            "tags": []
          },
          "execution_count": 138
        }
      ]
    },
    {
      "cell_type": "code",
      "metadata": {
        "id": "Gh4_gsb_He9N"
      },
      "source": [
        ""
      ],
      "execution_count": null,
      "outputs": []
    }
  ]
}